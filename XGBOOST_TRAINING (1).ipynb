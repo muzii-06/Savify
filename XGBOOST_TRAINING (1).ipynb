{
  "nbformat": 4,
  "nbformat_minor": 0,
  "metadata": {
    "colab": {
      "provenance": []
    },
    "kernelspec": {
      "name": "python3",
      "display_name": "Python 3"
    },
    "language_info": {
      "name": "python"
    }
  },
  "cells": [
    {
      "cell_type": "code",
      "execution_count": 10,
      "metadata": {
        "colab": {
          "base_uri": "https://localhost:8080/"
        },
        "id": "UE-tPQu3lhit",
        "outputId": "8e96c694-bc07-4bec-be6d-cef9e48aa572"
      },
      "outputs": [
        {
          "output_type": "stream",
          "name": "stdout",
          "text": [
            "✅ Cleaned dataset shape: (9997, 4)\n",
            "🧼 Remaining missing values:\n",
            " account_age_days    0\n",
            "total_orders        0\n",
            "product_rating      0\n",
            "discount_percent    0\n",
            "dtype: int64\n"
          ]
        },
        {
          "output_type": "stream",
          "name": "stderr",
          "text": [
            "<ipython-input-10-427320ef841b>:11: FutureWarning: A value is trying to be set on a copy of a DataFrame or Series through chained assignment using an inplace method.\n",
            "The behavior will change in pandas 3.0. This inplace method will never work because the intermediate object on which we are setting values always behaves as a copy.\n",
            "\n",
            "For example, when doing 'df[col].method(value, inplace=True)', try using 'df.method({col: value}, inplace=True)' or df[col] = df[col].method(value) instead, to perform the operation inplace on the original object.\n",
            "\n",
            "\n",
            "  df[col].fillna(df[col].mean(), inplace=True)\n"
          ]
        }
      ],
      "source": [
        "import pandas as pd\n",
        "\n",
        "# Load the updated dataset\n",
        "df = pd.read_csv(\"/content/Account_Age_Orders_Rating_Discount.csv\")\n",
        "\n",
        "# Step 1: Drop duplicates\n",
        "df.drop_duplicates(inplace=True)\n",
        "\n",
        "# Step 2: Handle missing values in numeric columns\n",
        "for col in df.select_dtypes(include=['float64', 'int64']).columns:\n",
        "    df[col].fillna(df[col].mean(), inplace=True)\n",
        "\n",
        "# Step 3: No categorical columns to encode\n",
        "\n",
        "# Step 4: Show dataset summary\n",
        "print(\"✅ Cleaned dataset shape:\", df.shape)\n",
        "print(\"🧼 Remaining missing values:\\n\", df.isnull().sum())\n"
      ]
    },
    {
      "cell_type": "code",
      "source": [
        "from sklearn.model_selection import train_test_split\n",
        "import pandas as pd\n",
        "\n",
        "# Load the updated dataset\n",
        "df = pd.read_csv(\"/content/Account_Age_Orders_Rating_Discount.csv\")\n",
        "\n",
        "# Features and Target\n",
        "X = df.drop('discount_percent', axis=1)\n",
        "y = df['discount_percent']\n",
        "\n",
        "# Split the data\n",
        "X_train, X_test, y_train, y_test = train_test_split(\n",
        "    X, y, test_size=0.2, random_state=42\n",
        ")\n",
        "\n",
        "# Confirm shapes\n",
        "print(\"✅ X_train shape:\", X_train.shape)\n",
        "print(\"✅ X_test shape:\", X_test.shape)\n"
      ],
      "metadata": {
        "colab": {
          "base_uri": "https://localhost:8080/"
        },
        "id": "6672oX-bl8Se",
        "outputId": "cb253abc-0b5e-4710-8298-0394037026e0"
      },
      "execution_count": 11,
      "outputs": [
        {
          "output_type": "stream",
          "name": "stdout",
          "text": [
            "✅ X_train shape: (8000, 3)\n",
            "✅ X_test shape: (2000, 3)\n"
          ]
        }
      ]
    },
    {
      "cell_type": "code",
      "source": [
        "import pandas as pd\n",
        "import xgboost as xgb\n",
        "from sklearn.model_selection import train_test_split\n",
        "\n",
        "# Load dataset\n",
        "df = pd.read_csv(\"/content/Account_Age_Orders_Rating_Discount.csv\")\n",
        "\n",
        "# Split features and target\n",
        "X = df.drop('discount_percent', axis=1)\n",
        "y = df['discount_percent']\n",
        "\n",
        "# Split into train/test sets\n",
        "X_train, X_test, y_train, y_test = train_test_split(\n",
        "    X, y, test_size=0.2, random_state=42\n",
        ")\n",
        "\n",
        "# Create DMatrix from training and test sets\n",
        "dtrain = xgb.DMatrix(X_train, label=y_train)\n",
        "dtest = xgb.DMatrix(X_test, label=y_test)\n",
        "\n",
        "# Define XGBoost parameters\n",
        "params = {\n",
        "    'objective': 'reg:squarederror',  # regression objective\n",
        "    'eval_metric': 'rmse',\n",
        "    'eta': 0.1,\n",
        "    'max_depth': 6,\n",
        "    'seed': 42\n",
        "}\n",
        "\n",
        "# Dictionary to store training history\n",
        "evals_result = {}\n",
        "\n",
        "# Train the model\n",
        "model = xgb.train(\n",
        "    params=params,\n",
        "    dtrain=dtrain,\n",
        "    num_boost_round=200,\n",
        "    evals=[(dtrain, 'train'), (dtest, 'eval')],\n",
        "    early_stopping_rounds=10,\n",
        "    evals_result=evals_result,\n",
        "    verbose_eval=False\n",
        ")\n",
        "\n",
        "# Save model\n",
        "model.save_model(\"xgb_discount_model.json\")\n",
        "\n",
        "# Save training history to CSV\n",
        "history_df = pd.DataFrame({\n",
        "    'train_rmse': evals_result['train']['rmse'],\n",
        "    'eval_rmse': evals_result['eval']['rmse']\n",
        "})\n",
        "history_df.to_csv(\"training_history.csv\", index_label=\"iteration\")\n",
        "\n",
        "print(f\"✅ Model trained for {len(history_df)} iterations. Saved as 'xgb_discount_model.json'\")\n"
      ],
      "metadata": {
        "colab": {
          "base_uri": "https://localhost:8080/"
        },
        "id": "jyACGwr0FTeV",
        "outputId": "cb5d0ada-c031-4ec5-e8c4-c83905039529"
      },
      "execution_count": 13,
      "outputs": [
        {
          "output_type": "stream",
          "name": "stdout",
          "text": [
            "✅ Model trained for 200 iterations. Saved as 'xgb_discount_model.json'\n"
          ]
        }
      ]
    },
    {
      "cell_type": "code",
      "source": [
        "from sklearn.metrics import mean_squared_error, mean_absolute_error, r2_score\n",
        "import numpy as np\n",
        "\n",
        "# Predict using the best iteration\n",
        "y_pred = model.predict(dtest, iteration_range=(0, model.best_iteration + 1))\n",
        "\n",
        "# Evaluation metrics\n",
        "rmse = np.sqrt(mean_squared_error(y_test, y_pred))\n",
        "mae = mean_absolute_error(y_test, y_pred)\n",
        "r2 = r2_score(y_test, y_pred)\n",
        "\n",
        "print(f\"📊 RMSE: {rmse:.2f}\")\n",
        "print(f\"📊 MAE: {mae:.2f}\")\n",
        "print(f\"📊 R² Score: {r2:.2f}\")\n"
      ],
      "metadata": {
        "colab": {
          "base_uri": "https://localhost:8080/"
        },
        "id": "q5RBEKrPF_m0",
        "outputId": "011056d1-0ac6-4a02-8fa9-9b8af503214c"
      },
      "execution_count": 14,
      "outputs": [
        {
          "output_type": "stream",
          "name": "stdout",
          "text": [
            "📊 RMSE: 0.09\n",
            "📊 MAE: 0.07\n",
            "📊 R² Score: 1.00\n"
          ]
        }
      ]
    },
    {
      "cell_type": "code",
      "source": [
        "import matplotlib.pyplot as plt\n",
        "\n",
        "# Plot Train vs Eval RMSE\n",
        "plt.figure(figsize=(8, 5))\n",
        "plt.plot(history_df['train_rmse'], label='Train RMSE')\n",
        "plt.plot(history_df['eval_rmse'], label='Eval RMSE')\n",
        "plt.axvline(model.best_iteration, color='red', linestyle='--', label='Best Iteration')\n",
        "plt.title(\"XGBoost Training History\")\n",
        "plt.xlabel(\"Boosting Round\")\n",
        "plt.ylabel(\"RMSE\")\n",
        "plt.legend()\n",
        "plt.grid(True)\n",
        "plt.tight_layout()\n",
        "plt.savefig(\"training_history_plot.png\")\n",
        "plt.close()\n"
      ],
      "metadata": {
        "id": "-vkSBHQ9GEVO"
      },
      "execution_count": 15,
      "outputs": []
    },
    {
      "cell_type": "code",
      "source": [
        "# Scatter plot: Actual vs Predicted\n",
        "plt.figure(figsize=(6, 6))\n",
        "plt.scatter(y_test, y_pred, alpha=0.6, color='blue', edgecolors='white')\n",
        "plt.plot([y_test.min(), y_test.max()], [y_test.min(), y_test.max()], 'r--', linewidth=2)\n",
        "plt.xlabel(\"Actual Discount %\")\n",
        "plt.ylabel(\"Predicted Discount %\")\n",
        "plt.title(\"Actual vs Predicted Values\")\n",
        "plt.tight_layout()\n",
        "plt.savefig(\"actual_vs_predicted_plot.png\")\n",
        "plt.close()\n"
      ],
      "metadata": {
        "id": "6NhfX9XCGEg1"
      },
      "execution_count": 16,
      "outputs": []
    },
    {
      "cell_type": "code",
      "source": [
        "import xgboost as xgb\n",
        "import pandas as pd\n",
        "\n",
        "# Load trained model\n",
        "model = xgb.Booster()\n",
        "model.load_model(\"xgb_discount_model.json\")\n",
        "\n",
        "print(\"🎯 Discount Prediction System (type 'exit' to stop)\\n\")\n",
        "\n",
        "while True:\n",
        "    try:\n",
        "        # Get user input\n",
        "        age_input = input(\"Enter account_age_days (1–365): \")\n",
        "        if age_input.lower() == 'exit':\n",
        "            break\n",
        "        orders_input = input(\"Enter total_orders (0–100): \")\n",
        "        if orders_input.lower() == 'exit':\n",
        "            break\n",
        "        rating_input = input(\"Enter product_rating (1.0–5.0): \")\n",
        "        if rating_input.lower() == 'exit':\n",
        "            break\n",
        "\n",
        "        # Convert to numeric\n",
        "        age = int(age_input)\n",
        "        orders = int(orders_input)\n",
        "        rating = float(rating_input)\n",
        "\n",
        "        # Optional: input validation\n",
        "        if not (0 <= age <= 365):\n",
        "            print(\"⚠️ Account age must be between 1 and 365.\")\n",
        "            continue\n",
        "        if not (0 <= orders <= 100):\n",
        "            print(\"⚠️ Total orders must be between 0 and 100.\")\n",
        "            continue\n",
        "        if not (1.0 <= rating <= 5.0):\n",
        "            print(\"⚠️ Product rating must be between 1.0 and 5.0.\")\n",
        "            continue\n",
        "\n",
        "        # Create input DataFrame\n",
        "        data = pd.DataFrame([{\n",
        "            'account_age_days': age,\n",
        "            'total_orders': orders,\n",
        "            'product_rating': rating\n",
        "        }])\n",
        "        dmatrix = xgb.DMatrix(data)\n",
        "\n",
        "        # Predict\n",
        "        prediction = model.predict(dmatrix)[0]\n",
        "        print(f\"🧾 Predicted Discount: {round(prediction, 2)}%\\n\")\n",
        "\n",
        "    except Exception as e:\n",
        "        print(f\"⚠️ Error: {e}\\nPlease enter valid numeric values.\\n\")\n"
      ],
      "metadata": {
        "colab": {
          "base_uri": "https://localhost:8080/",
          "height": 564
        },
        "id": "zW8Dxm9pGEqS",
        "outputId": "9e74c165-0332-4cba-bf2d-7a5440c776ba"
      },
      "execution_count": 21,
      "outputs": [
        {
          "output_type": "stream",
          "name": "stdout",
          "text": [
            "🎯 Discount Prediction System (type 'exit' to stop)\n",
            "\n",
            "Enter account_age_days (1–365): 0\n",
            "Enter total_orders (0–100): 10\n",
            "Enter product_rating (1.0–5.0): 4.5\n",
            "🧾 Predicted Discount: 3.059999942779541%\n",
            "\n",
            "Enter account_age_days (1–365): 0\n",
            "Enter total_orders (0–100): 11\n",
            "Enter product_rating (1.0–5.0): 4.5\n",
            "🧾 Predicted Discount: 3.0999999046325684%\n",
            "\n"
          ]
        },
        {
          "output_type": "error",
          "ename": "KeyboardInterrupt",
          "evalue": "Interrupted by user",
          "traceback": [
            "\u001b[0;31m---------------------------------------------------------------------------\u001b[0m",
            "\u001b[0;31mKeyboardInterrupt\u001b[0m                         Traceback (most recent call last)",
            "\u001b[0;32m<ipython-input-21-a7e084e53e2b>\u001b[0m in \u001b[0;36m<cell line: 0>\u001b[0;34m()\u001b[0m\n\u001b[1;32m     11\u001b[0m     \u001b[0;32mtry\u001b[0m\u001b[0;34m:\u001b[0m\u001b[0;34m\u001b[0m\u001b[0;34m\u001b[0m\u001b[0m\n\u001b[1;32m     12\u001b[0m         \u001b[0;31m# Get user input\u001b[0m\u001b[0;34m\u001b[0m\u001b[0;34m\u001b[0m\u001b[0m\n\u001b[0;32m---> 13\u001b[0;31m         \u001b[0mage_input\u001b[0m \u001b[0;34m=\u001b[0m \u001b[0minput\u001b[0m\u001b[0;34m(\u001b[0m\u001b[0;34m\"Enter account_age_days (1–365): \"\u001b[0m\u001b[0;34m)\u001b[0m\u001b[0;34m\u001b[0m\u001b[0;34m\u001b[0m\u001b[0m\n\u001b[0m\u001b[1;32m     14\u001b[0m         \u001b[0;32mif\u001b[0m \u001b[0mage_input\u001b[0m\u001b[0;34m.\u001b[0m\u001b[0mlower\u001b[0m\u001b[0;34m(\u001b[0m\u001b[0;34m)\u001b[0m \u001b[0;34m==\u001b[0m \u001b[0;34m'exit'\u001b[0m\u001b[0;34m:\u001b[0m\u001b[0;34m\u001b[0m\u001b[0;34m\u001b[0m\u001b[0m\n\u001b[1;32m     15\u001b[0m             \u001b[0;32mbreak\u001b[0m\u001b[0;34m\u001b[0m\u001b[0;34m\u001b[0m\u001b[0m\n",
            "\u001b[0;32m/usr/local/lib/python3.11/dist-packages/ipykernel/kernelbase.py\u001b[0m in \u001b[0;36mraw_input\u001b[0;34m(self, prompt)\u001b[0m\n\u001b[1;32m   1175\u001b[0m                 \u001b[0;34m\"raw_input was called, but this frontend does not support input requests.\"\u001b[0m\u001b[0;34m\u001b[0m\u001b[0;34m\u001b[0m\u001b[0m\n\u001b[1;32m   1176\u001b[0m             )\n\u001b[0;32m-> 1177\u001b[0;31m         return self._input_request(\n\u001b[0m\u001b[1;32m   1178\u001b[0m             \u001b[0mstr\u001b[0m\u001b[0;34m(\u001b[0m\u001b[0mprompt\u001b[0m\u001b[0;34m)\u001b[0m\u001b[0;34m,\u001b[0m\u001b[0;34m\u001b[0m\u001b[0;34m\u001b[0m\u001b[0m\n\u001b[1;32m   1179\u001b[0m             \u001b[0mself\u001b[0m\u001b[0;34m.\u001b[0m\u001b[0m_parent_ident\u001b[0m\u001b[0;34m[\u001b[0m\u001b[0;34m\"shell\"\u001b[0m\u001b[0;34m]\u001b[0m\u001b[0;34m,\u001b[0m\u001b[0;34m\u001b[0m\u001b[0;34m\u001b[0m\u001b[0m\n",
            "\u001b[0;32m/usr/local/lib/python3.11/dist-packages/ipykernel/kernelbase.py\u001b[0m in \u001b[0;36m_input_request\u001b[0;34m(self, prompt, ident, parent, password)\u001b[0m\n\u001b[1;32m   1217\u001b[0m             \u001b[0;32mexcept\u001b[0m \u001b[0mKeyboardInterrupt\u001b[0m\u001b[0;34m:\u001b[0m\u001b[0;34m\u001b[0m\u001b[0;34m\u001b[0m\u001b[0m\n\u001b[1;32m   1218\u001b[0m                 \u001b[0;31m# re-raise KeyboardInterrupt, to truncate traceback\u001b[0m\u001b[0;34m\u001b[0m\u001b[0;34m\u001b[0m\u001b[0m\n\u001b[0;32m-> 1219\u001b[0;31m                 \u001b[0;32mraise\u001b[0m \u001b[0mKeyboardInterrupt\u001b[0m\u001b[0;34m(\u001b[0m\u001b[0;34m\"Interrupted by user\"\u001b[0m\u001b[0;34m)\u001b[0m \u001b[0;32mfrom\u001b[0m \u001b[0;32mNone\u001b[0m\u001b[0;34m\u001b[0m\u001b[0;34m\u001b[0m\u001b[0m\n\u001b[0m\u001b[1;32m   1220\u001b[0m             \u001b[0;32mexcept\u001b[0m \u001b[0mException\u001b[0m\u001b[0;34m:\u001b[0m\u001b[0;34m\u001b[0m\u001b[0;34m\u001b[0m\u001b[0m\n\u001b[1;32m   1221\u001b[0m                 \u001b[0mself\u001b[0m\u001b[0;34m.\u001b[0m\u001b[0mlog\u001b[0m\u001b[0;34m.\u001b[0m\u001b[0mwarning\u001b[0m\u001b[0;34m(\u001b[0m\u001b[0;34m\"Invalid Message:\"\u001b[0m\u001b[0;34m,\u001b[0m \u001b[0mexc_info\u001b[0m\u001b[0;34m=\u001b[0m\u001b[0;32mTrue\u001b[0m\u001b[0;34m)\u001b[0m\u001b[0;34m\u001b[0m\u001b[0;34m\u001b[0m\u001b[0m\n",
            "\u001b[0;31mKeyboardInterrupt\u001b[0m: Interrupted by user"
          ]
        }
      ]
    },
    {
      "cell_type": "code",
      "source": [
        "import shutil\n",
        "from google.colab import files\n",
        "\n",
        "# Replace 'your_folder' with the name/path of your folder\n",
        "folder_path = '/content/COLAB_XBOOST'\n",
        "zip_name = 'your_folder.zip'\n",
        "\n",
        "# Create ZIP file\n",
        "shutil.make_archive('/content/COLAB', 'zip', folder_path)\n",
        "\n",
        "# Download the ZIP file\n",
        "files.download(zip_name)\n"
      ],
      "metadata": {
        "colab": {
          "base_uri": "https://localhost:8080/",
          "height": 297
        },
        "id": "G9CIo09PIIjV",
        "outputId": "df315293-44a2-4020-c9ed-6bf097377222"
      },
      "execution_count": 24,
      "outputs": [
        {
          "output_type": "error",
          "ename": "FileNotFoundError",
          "evalue": "Cannot find file: your_folder.zip",
          "traceback": [
            "\u001b[0;31m---------------------------------------------------------------------------\u001b[0m",
            "\u001b[0;31mFileNotFoundError\u001b[0m                         Traceback (most recent call last)",
            "\u001b[0;32m<ipython-input-24-743ca52decad>\u001b[0m in \u001b[0;36m<cell line: 0>\u001b[0;34m()\u001b[0m\n\u001b[1;32m     10\u001b[0m \u001b[0;34m\u001b[0m\u001b[0m\n\u001b[1;32m     11\u001b[0m \u001b[0;31m# Download the ZIP file\u001b[0m\u001b[0;34m\u001b[0m\u001b[0;34m\u001b[0m\u001b[0m\n\u001b[0;32m---> 12\u001b[0;31m \u001b[0mfiles\u001b[0m\u001b[0;34m.\u001b[0m\u001b[0mdownload\u001b[0m\u001b[0;34m(\u001b[0m\u001b[0mzip_name\u001b[0m\u001b[0;34m)\u001b[0m\u001b[0;34m\u001b[0m\u001b[0;34m\u001b[0m\u001b[0m\n\u001b[0m",
            "\u001b[0;32m/usr/local/lib/python3.11/dist-packages/google/colab/files.py\u001b[0m in \u001b[0;36mdownload\u001b[0;34m(filename)\u001b[0m\n\u001b[1;32m    231\u001b[0m   \u001b[0;32mif\u001b[0m \u001b[0;32mnot\u001b[0m \u001b[0m_os\u001b[0m\u001b[0;34m.\u001b[0m\u001b[0mpath\u001b[0m\u001b[0;34m.\u001b[0m\u001b[0mexists\u001b[0m\u001b[0;34m(\u001b[0m\u001b[0mfilename\u001b[0m\u001b[0;34m)\u001b[0m\u001b[0;34m:\u001b[0m\u001b[0;34m\u001b[0m\u001b[0;34m\u001b[0m\u001b[0m\n\u001b[1;32m    232\u001b[0m     \u001b[0mmsg\u001b[0m \u001b[0;34m=\u001b[0m \u001b[0;34m'Cannot find file: {}'\u001b[0m\u001b[0;34m.\u001b[0m\u001b[0mformat\u001b[0m\u001b[0;34m(\u001b[0m\u001b[0mfilename\u001b[0m\u001b[0;34m)\u001b[0m\u001b[0;34m\u001b[0m\u001b[0;34m\u001b[0m\u001b[0m\n\u001b[0;32m--> 233\u001b[0;31m     \u001b[0;32mraise\u001b[0m \u001b[0mFileNotFoundError\u001b[0m\u001b[0;34m(\u001b[0m\u001b[0mmsg\u001b[0m\u001b[0;34m)\u001b[0m  \u001b[0;31m# pylint: disable=undefined-variable\u001b[0m\u001b[0;34m\u001b[0m\u001b[0;34m\u001b[0m\u001b[0m\n\u001b[0m\u001b[1;32m    234\u001b[0m \u001b[0;34m\u001b[0m\u001b[0m\n\u001b[1;32m    235\u001b[0m   \u001b[0mcomm_manager\u001b[0m \u001b[0;34m=\u001b[0m \u001b[0m_IPython\u001b[0m\u001b[0;34m.\u001b[0m\u001b[0mget_ipython\u001b[0m\u001b[0;34m(\u001b[0m\u001b[0;34m)\u001b[0m\u001b[0;34m.\u001b[0m\u001b[0mkernel\u001b[0m\u001b[0;34m.\u001b[0m\u001b[0mcomm_manager\u001b[0m\u001b[0;34m\u001b[0m\u001b[0;34m\u001b[0m\u001b[0m\n",
            "\u001b[0;31mFileNotFoundError\u001b[0m: Cannot find file: your_folder.zip"
          ]
        }
      ]
    }
  ]
}